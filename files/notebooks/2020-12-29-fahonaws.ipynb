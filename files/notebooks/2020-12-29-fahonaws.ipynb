{
 "cells": [
  {
   "cell_type": "markdown",
   "metadata": {},
   "source": [
    "# Accessing FoldingAtHome data on AWS\n",
    "\n",
    "\n",
    "Some F@H data is [freely accessible on AWS](https://registry.opendata.aws/foldingathome-covid19/).\n",
    "This will be a relatively short post on accessing and navigating the data on AWS.\n",
    "\n",
    "If you regularly use AWS, this will be nothing new. \n",
    "If you're a grad student who has only ever navigated local file directories or used `scp`/`rsync`/`ssh` to interact with remote clusters, this might be your first time interacting with files on AWS S3.\n",
    "\n",
    "The python environment is fairly straightforward analytical environment, but with s3fs, boto3, and botocore to interact with files on S3\n",
    "\n",
    "`conda create -n fahaws python=3.7 pandas s3fs jupyter ipykernel -c conda-forge -yq`\n",
    "\n",
    "(Active environment)\n",
    "\n",
    "`python -m pip install boto3 botocore`"
   ]
  },
  {
   "cell_type": "markdown",
   "metadata": {},
   "source": [
    "## The AWS CLI\n",
    "\n",
    "The tools to navigate files within AWS directories follow that of unix-like systems.\n",
    "[AWS CLI installation](https://docs.aws.amazon.com/cli/latest/userguide/cli-chap-install.html).\n",
    "\n",
    "`aws s3 ls s3://fah-public-data-covid19-absolute-free-energy/ --no-sign-request` to list files within this particular S3 bucket. The no sign request flag at the end helps us bypass the need for any credentials.\n",
    "\n",
    "You can read from stdout or pipe the output to a textfile, but this will be your bread and butter for wading through terabytes and terabytes of F@H data.\n",
    "\n",
    "As of this post (Dec 2020), looks like the files in `free_energy_data/` have been last updated end of Sept 2020"
   ]
  },
  {
   "cell_type": "markdown",
   "metadata": {},
   "source": [
    "## Summary of free energy results data\n",
    "\n",
    "Fortunately, loading remote files via pandas is a common task, so there are convenient functions.\n",
    "Loading a dataframe over S3 is just like loading a dataframe locally (note the S3 string syntax)\n",
    "\n",
    "The column `febkT` looks like the binding free energies in units of $k_B T$ (multiply by Boltzmann's constant and temperature to get energies in kJ or kcal).\n",
    "It's worth mentioning that the value of the binding free energy is not as helpful as the _relative_ binding free energy to find the best binder of the bunch (how do these free energies compare against each other?)"
   ]
  },
  {
   "cell_type": "code",
   "execution_count": 1,
   "metadata": {},
   "outputs": [],
   "source": [
    "import pandas as pd"
   ]
  },
  {
   "cell_type": "code",
   "execution_count": 2,
   "metadata": {},
   "outputs": [],
   "source": [
    "df = pd.read_pickle(\"s3://fah-public-data-covid19-absolute-free-energy/free_energy_data/results.pkl\")"
   ]
  },
  {
   "cell_type": "code",
   "execution_count": 3,
   "metadata": {},
   "outputs": [
    {
     "data": {
      "text/html": [
       "<div>\n",
       "<style scoped>\n",
       "    .dataframe tbody tr th:only-of-type {\n",
       "        vertical-align: middle;\n",
       "    }\n",
       "\n",
       "    .dataframe tbody tr th {\n",
       "        vertical-align: top;\n",
       "    }\n",
       "\n",
       "    .dataframe thead th {\n",
       "        text-align: right;\n",
       "    }\n",
       "</style>\n",
       "<table border=\"1\" class=\"dataframe\">\n",
       "  <thead>\n",
       "    <tr style=\"text-align: right;\">\n",
       "      <th></th>\n",
       "      <th>dataset</th>\n",
       "      <th>fah</th>\n",
       "      <th>identity</th>\n",
       "      <th>receptor</th>\n",
       "      <th>score</th>\n",
       "      <th>febkT</th>\n",
       "      <th>error</th>\n",
       "      <th>ns_RL</th>\n",
       "      <th>ns_L</th>\n",
       "      <th>wl_RL</th>\n",
       "      <th>L_error</th>\n",
       "      <th>RL_error</th>\n",
       "    </tr>\n",
       "  </thead>\n",
       "  <tbody>\n",
       "    <tr>\n",
       "      <th>1155</th>\n",
       "      <td>MS0323_v3</td>\n",
       "      <td>PROJ14822/RUN258</td>\n",
       "      <td>DAR-DIA-43a-5</td>\n",
       "      <td>protein-0387.pdb</td>\n",
       "      <td>-5.201610</td>\n",
       "      <td>-25.546943</td>\n",
       "      <td>3.773523</td>\n",
       "      <td>[131, 89, 74, 113, 80]</td>\n",
       "      <td>[450, 490, 540, 410, 620]</td>\n",
       "      <td>[0.18446, 0.14757, 0.18446, 0.18446, 0.18446]</td>\n",
       "      <td>0.116912</td>\n",
       "      <td>3.280887</td>\n",
       "    </tr>\n",
       "    <tr>\n",
       "      <th>609</th>\n",
       "      <td>MS0326_v3</td>\n",
       "      <td>PROJ14823/RUN1202</td>\n",
       "      <td>MUS-SCH-c2f-13</td>\n",
       "      <td>Mpro-x0107-protein.pdb</td>\n",
       "      <td>-9.550890</td>\n",
       "      <td>-25.259420</td>\n",
       "      <td>22.776358</td>\n",
       "      <td>[121, 138, 96, 16, 5]</td>\n",
       "      <td>[200, 200, 200, 200, 200]</td>\n",
       "      <td>[0.18446, 0.18446, 0.23058, 0.23058, 0.23058]</td>\n",
       "      <td>16.216396</td>\n",
       "      <td>0.109175</td>\n",
       "    </tr>\n",
       "    <tr>\n",
       "      <th>759</th>\n",
       "      <td>MS0331_v3</td>\n",
       "      <td>PROJ14825/RUN685</td>\n",
       "      <td>MAK-UNK-129-18</td>\n",
       "      <td>Mpro-x0107_0.pdb</td>\n",
       "      <td>-8.425830</td>\n",
       "      <td>-24.789359</td>\n",
       "      <td>18.021078</td>\n",
       "      <td>[58, 68, 5, 7]</td>\n",
       "      <td>[200]</td>\n",
       "      <td>[0.37782, 0.30226, 0.9224, 0.59034]</td>\n",
       "      <td>0.000000</td>\n",
       "      <td>9.238496</td>\n",
       "    </tr>\n",
       "    <tr>\n",
       "      <th>615</th>\n",
       "      <td>MS0326_v3</td>\n",
       "      <td>PROJ14823/RUN2911</td>\n",
       "      <td>√ÅLV-UNI-7ff-30</td>\n",
       "      <td>Mpro-x0540-protein.pdb</td>\n",
       "      <td>-2.774634</td>\n",
       "      <td>-24.447756</td>\n",
       "      <td>6.605737</td>\n",
       "      <td>[174, 124, 70]</td>\n",
       "      <td>[200, 200, 200, 200, 200]</td>\n",
       "      <td>[0.14757, 0.14757, 0.18446]</td>\n",
       "      <td>0.042010</td>\n",
       "      <td>5.184169</td>\n",
       "    </tr>\n",
       "    <tr>\n",
       "      <th>1086</th>\n",
       "      <td>MS0326_v3</td>\n",
       "      <td>PROJ14823/RUN2580</td>\n",
       "      <td>SEL-UNI-842-3</td>\n",
       "      <td>Mpro-x0397-protein.pdb</td>\n",
       "      <td>-4.474095</td>\n",
       "      <td>-23.705301</td>\n",
       "      <td>1.248983</td>\n",
       "      <td>[166, 134, 45]</td>\n",
       "      <td>[200, 200, 200, 200, 200]</td>\n",
       "      <td>[0.18015, 0.22519, 0.35183]</td>\n",
       "      <td>0.212546</td>\n",
       "      <td>2.529874</td>\n",
       "    </tr>\n",
       "  </tbody>\n",
       "</table>\n",
       "</div>"
      ],
      "text/plain": [
       "        dataset                fah         identity                receptor  \\\n",
       "1155  MS0323_v3   PROJ14822/RUN258    DAR-DIA-43a-5        protein-0387.pdb   \n",
       "609   MS0326_v3  PROJ14823/RUN1202   MUS-SCH-c2f-13  Mpro-x0107-protein.pdb   \n",
       "759   MS0331_v3   PROJ14825/RUN685   MAK-UNK-129-18        Mpro-x0107_0.pdb   \n",
       "615   MS0326_v3  PROJ14823/RUN2911  √ÅLV-UNI-7ff-30  Mpro-x0540-protein.pdb   \n",
       "1086  MS0326_v3  PROJ14823/RUN2580    SEL-UNI-842-3  Mpro-x0397-protein.pdb   \n",
       "\n",
       "         score      febkT      error                   ns_RL  \\\n",
       "1155 -5.201610 -25.546943   3.773523  [131, 89, 74, 113, 80]   \n",
       "609  -9.550890 -25.259420  22.776358   [121, 138, 96, 16, 5]   \n",
       "759  -8.425830 -24.789359  18.021078          [58, 68, 5, 7]   \n",
       "615  -2.774634 -24.447756   6.605737          [174, 124, 70]   \n",
       "1086 -4.474095 -23.705301   1.248983          [166, 134, 45]   \n",
       "\n",
       "                           ns_L  \\\n",
       "1155  [450, 490, 540, 410, 620]   \n",
       "609   [200, 200, 200, 200, 200]   \n",
       "759                       [200]   \n",
       "615   [200, 200, 200, 200, 200]   \n",
       "1086  [200, 200, 200, 200, 200]   \n",
       "\n",
       "                                              wl_RL    L_error  RL_error  \n",
       "1155  [0.18446, 0.14757, 0.18446, 0.18446, 0.18446]   0.116912  3.280887  \n",
       "609   [0.18446, 0.18446, 0.23058, 0.23058, 0.23058]  16.216396  0.109175  \n",
       "759             [0.37782, 0.30226, 0.9224, 0.59034]   0.000000  9.238496  \n",
       "615                     [0.14757, 0.14757, 0.18446]   0.042010  5.184169  \n",
       "1086                    [0.18015, 0.22519, 0.35183]   0.212546  2.529874  "
      ]
     },
     "execution_count": 3,
     "metadata": {},
     "output_type": "execute_result"
    }
   ],
   "source": [
    "df.head()"
   ]
  },
  {
   "cell_type": "markdown",
   "metadata": {},
   "source": [
    "## Some code to iterate through these buckets\n",
    "\n",
    "Pythonically, we can build some S3 code to list each object in this S3 bucket."
   ]
  },
  {
   "cell_type": "code",
   "execution_count": 4,
   "metadata": {},
   "outputs": [],
   "source": [
    "import boto3\n",
    "from botocore import UNSIGNED\n",
    "from botocore.client import Config\n",
    "\n",
    "s3 = boto3.resource('s3', config=Config(signature_version=UNSIGNED))\n",
    "s3_client = boto3.client('s3', config=Config(signature_version=UNSIGNED))\n",
    "\n",
    "bucket_name = \"fah-public-data-covid19-absolute-free-energy\"\n",
    "bucket = s3.Bucket(bucket_name)"
   ]
  },
  {
   "cell_type": "markdown",
   "metadata": {},
   "source": [
    "This S3 bucket is very large -- all the simulation inputs, trajectories, and outputs are in here, so it will take a while to enumerate every object.\n",
    "Instead, we'll just make a generator and pull out a single item for proof-of-concept."
   ]
  },
  {
   "cell_type": "code",
   "execution_count": 5,
   "metadata": {},
   "outputs": [],
   "source": [
    "paginator = s3_client.get_paginator('list_objects_v2')\n",
    "pages = paginator.paginate(Bucket=bucket_name)"
   ]
  },
  {
   "cell_type": "code",
   "execution_count": 6,
   "metadata": {},
   "outputs": [],
   "source": [
    "def page_iterator(pages):\n",
    "    for page in pages:\n",
    "        for item in page['Contents']:\n",
    "            yield item['Key']"
   ]
  },
  {
   "cell_type": "code",
   "execution_count": 7,
   "metadata": {},
   "outputs": [],
   "source": [
    "all_objects = page_iterator(pages)"
   ]
  },
  {
   "cell_type": "code",
   "execution_count": 8,
   "metadata": {},
   "outputs": [
    {
     "data": {
      "text/plain": [
       "'PROJ14377/RUN0/CLONE0/frame0.tpr'"
      ]
     },
     "execution_count": 8,
     "metadata": {},
     "output_type": "execute_result"
    }
   ],
   "source": [
    "next(all_objects)"
   ]
  },
  {
   "cell_type": "markdown",
   "metadata": {},
   "source": [
    "And if you wanted to, you could layer a filter over the generator to impose some logic like filtering for the top-level directories"
   ]
  },
  {
   "cell_type": "code",
   "execution_count": 9,
   "metadata": {},
   "outputs": [],
   "source": [
    "first_level_dirs = filter(lambda x: x.count('/')==1, all_objects)"
   ]
  },
  {
   "cell_type": "code",
   "execution_count": null,
   "metadata": {},
   "outputs": [],
   "source": []
  }
 ],
 "metadata": {
  "kernelspec": {
   "display_name": "Python 3",
   "language": "python",
   "name": "python3"
  },
  "language_info": {
   "codemirror_mode": {
    "name": "ipython",
    "version": 3
   },
   "file_extension": ".py",
   "mimetype": "text/x-python",
   "name": "python",
   "nbconvert_exporter": "python",
   "pygments_lexer": "ipython3",
   "version": "3.7.9"
  }
 },
 "nbformat": 4,
 "nbformat_minor": 4
}
